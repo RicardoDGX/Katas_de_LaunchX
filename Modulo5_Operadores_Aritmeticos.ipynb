{
 "cells": [
  {
   "cell_type": "markdown",
   "metadata": {},
   "source": [
    "# Operadores Aritmeticos\n",
    "## Ejercicio 1"
   ]
  },
  {
   "cell_type": "code",
   "execution_count": 1,
   "metadata": {},
   "outputs": [
    {
     "name": "stdout",
     "output_type": "stream",
     "text": [
      "-6459003035\n",
      "-4011040884.735\n"
     ]
    }
   ],
   "source": [
    "primer_planeta = 9277301344\n",
    "segundo_planeta = 2818298309\n",
    "\n",
    "distancia_km = segundo_planeta - primer_planeta\n",
    "print(distancia_km)\n",
    "\n",
    "distancia_mi = distancia_km * 0.621\n",
    "print(distancia_mi)"
   ]
  },
  {
   "cell_type": "markdown",
   "metadata": {},
   "source": [
    "## Ejercicio 2"
   ]
  },
  {
   "cell_type": "code",
   "execution_count": 2,
   "metadata": {},
   "outputs": [
    {
     "name": "stdout",
     "output_type": "stream",
     "text": [
      "-9276418432\n",
      "5760655846.272\n"
     ]
    }
   ],
   "source": [
    "primerplaneta = input(\"Introduzca la desitancia del sol para el primer planeta en km\")\n",
    "segundo_planeta = input(\"introduzca la distancia desde el sol para el segundo planeta en Km\")\n",
    "\n",
    "primer_planeta = int(primer_planeta)\n",
    "segundo_planeta = int(segundo_planeta)\n",
    "\n",
    "distancia_km = segundo_planeta - primer_planeta\n",
    "print(distancia_km)\n",
    "\n",
    "distancia_mi = distancia_km * 0.621\n",
    "print(abs(distancia_mi))"
   ]
  }
 ],
 "metadata": {
  "interpreter": {
   "hash": "63fd5069d213b44bf678585dea6b12cceca9941eaf7f819626cde1f2670de90d"
  },
  "kernelspec": {
   "display_name": "Python 3.9.7 64-bit",
   "language": "python",
   "name": "python3"
  },
  "language_info": {
   "codemirror_mode": {
    "name": "ipython",
    "version": 3
   },
   "file_extension": ".py",
   "mimetype": "text/x-python",
   "name": "python",
   "nbconvert_exporter": "python",
   "pygments_lexer": "ipython3",
   "version": "3.9.7"
  },
  "orig_nbformat": 4
 },
 "nbformat": 4,
 "nbformat_minor": 2
}
